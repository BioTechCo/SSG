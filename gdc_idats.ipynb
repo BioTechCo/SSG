{
 "cells": [
  {
   "cell_type": "code",
   "execution_count": null,
   "metadata": {},
   "outputs": [],
   "source": [
    "import os\n",
    "import sys\n",
    "\n",
    "manifest = input(\"Enter the manifest file name: \")\n",
    "\n",
    "if not os.path.exists(manifest):\n",
    "    print(\"File not found\")\n",
    "if not os.path.exists(\"gdc_download\"):\n",
    "    os.makedirs(\"gdc_download\")\n",
    "os.system(\"gdc-client download -m \" + manifest + \" -d gdc_download\")\n"
   ]
  },
  {
   "cell_type": "markdown",
   "metadata": {},
   "source": [
    "#### Process Files from gdc"
   ]
  },
  {
   "cell_type": "code",
   "execution_count": null,
   "metadata": {},
   "outputs": [],
   "source": [
    "import os\n",
    "import shutil\n",
    "\n",
    "def move_idat_files_to_parent(parent_dir):\n",
    "    # Ensure the provided path is a directory\n",
    "    if not os.path.isdir(parent_dir):\n",
    "        print(f\"{parent_dir} is not a valid directory.\")\n",
    "        return\n",
    "\n",
    "    # Traverse through each subdirectory in the parent directory\n",
    "    for subdir in os.listdir(parent_dir):\n",
    "        subdir_path = os.path.join(parent_dir, subdir)\n",
    "\n",
    "        # Check if it is a directory\n",
    "        if os.path.isdir(subdir_path):\n",
    "            # Iterate through files in the subdirectory\n",
    "            for file in os.listdir(subdir_path):\n",
    "                if file.endswith(\".idat\"):\n",
    "                    file_path = os.path.join(subdir_path, file)\n",
    "                    dest_path = os.path.join(parent_dir, file)\n",
    "\n",
    "                    # Move the .idat file to the parent directory\n",
    "                    try:\n",
    "                        shutil.move(file_path, dest_path)\n",
    "                        print(f\"Moved: {file_path} -> {dest_path}\")\n",
    "                    except Exception as e:\n",
    "                        print(f\"Error moving {file_path}: {e}\")\n",
    "\n",
    "\n",
    "parent_directory = input(\"Replace with the path to your parent directory\")\n",
    "move_idat_files_to_parent(parent_directory)\n"
   ]
  },
  {
   "cell_type": "code",
   "execution_count": null,
   "metadata": {},
   "outputs": [],
   "source": [
    "import pandas as pd\n",
    "df_name = input(\"Enter the name of sample sheet\")\n",
    "df = pd.read_csv(df_name)\n",
    "df"
   ]
  },
  {
   "cell_type": "code",
   "execution_count": 3,
   "metadata": {},
   "outputs": [
    {
     "name": "stdout",
     "output_type": "stream",
     "text": [
      "All samples found in sample sheet\n"
     ]
    }
   ],
   "source": [
    "import os\n",
    "import shutil\n",
    "\n",
    "def check(folder, df_name):\n",
    "    if not os.path.isdir(folder):\n",
    "        print(f\"{folder} is not a valid directory.\")\n",
    "        return\n",
    "    idat_files = [f for f in os.listdir(folder) if f.endswith('.idat')]\n",
    "    sample_ids = [f.split('_')[0] for f in idat_files]\n",
    "    flag = True\n",
    "    # Check if each sample ID exists in the dataframe\n",
    "    for sample_id in sample_ids:\n",
    "        if sample_id not in df['Sentrix_ID'].values:\n",
    "            flag = False\n",
    "            print(f\"Warning: Sample {sample_id} not found in sample sheet\")\n",
    "        else:\n",
    "            pass\n",
    "    if flag:\n",
    "        print(\"All samples found in sample sheet\")\n",
    "# F:\\Repo\\btc\\data\\TCGA_COAD_READ\n",
    "# gdc_sample_sheet.2024-12-05.modified.csv\n",
    "folder = input(\"Enter the path to the folder for checking\")\n",
    "\n",
    "check(folder, df)\n"
   ]
  },
  {
   "cell_type": "code",
   "execution_count": null,
   "metadata": {},
   "outputs": [],
   "source": []
  }
 ],
 "metadata": {
  "kernelspec": {
   "display_name": "Python 3",
   "language": "python",
   "name": "python3"
  },
  "language_info": {
   "codemirror_mode": {
    "name": "ipython",
    "version": 3
   },
   "file_extension": ".py",
   "mimetype": "text/x-python",
   "name": "python",
   "nbconvert_exporter": "python",
   "pygments_lexer": "ipython3",
   "version": "3.10.11"
  }
 },
 "nbformat": 4,
 "nbformat_minor": 2
}
