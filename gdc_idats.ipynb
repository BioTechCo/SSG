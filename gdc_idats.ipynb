{
 "cells": [
  {
   "cell_type": "markdown",
   "metadata": {},
   "source": [
    "#### Download Files from gdc"
   ]
  },
  {
   "cell_type": "code",
   "execution_count": null,
   "metadata": {},
   "outputs": [],
   "source": [
    "import os\n",
    "import sys\n",
    "\n",
    "manifest = input(\"Enter the manifest file name: \")\n",
    "\n",
    "if not os.path.exists(manifest):\n",
    "    print(\"File not found\")\n",
    "if not os.path.exists(\"gdc_download\"):\n",
    "    os.makedirs(\"gdc_download\")\n",
    "os.system(\"gdc-client download -m \" + manifest + \" -d gdc_download\")\n"
   ]
  },
  {
   "cell_type": "code",
   "execution_count": null,
   "metadata": {},
   "outputs": [],
   "source": [
    "import os\n",
    "import shutil\n",
    "\n",
    "def move_idat_files_to_parent(target_directory):\n",
    "    if not os.path.isdir(target_directory):\n",
    "        print(f\"{target_directory} is not a valid directory.\")\n",
    "        return\n",
    "\n",
    "    for subdir in os.listdir(target_directory):\n",
    "        subdir_path = os.path.join(target_directory, subdir)\n",
    "\n",
    "        if os.path.isdir(subdir_path):\n",
    "            for file in os.listdir(subdir_path):\n",
    "                if file.endswith(\".idat\"):\n",
    "                    file_path = os.path.join(subdir_path, file)\n",
    "                    dest_path = os.path.join(target_directory, file)\n",
    "                    try:\n",
    "                        shutil.move(file_path, dest_path)\n",
    "                        print(f\"Moved: {file_path} -> {dest_path}\")\n",
    "                    except Exception as e:\n",
    "                        print(f\"Error moving {file_path}: {e}\")\n",
    "\n",
    "\n",
    "base_directory = input(\"dgc download directory: \")\n",
    "if base_directory == \"\":\n",
    "    base_directory = \"gdc_download\"\n",
    "move_idat_files_to_parent(base_directory)\n"
   ]
  },
  {
   "cell_type": "code",
   "execution_count": null,
   "metadata": {},
   "outputs": [],
   "source": [
    "import os\n",
    "import shutil\n",
    "\n",
    "def move_idat_files(source_dir, target_dir):\n",
    "    if not os.path.isdir(source_dir):\n",
    "        print(f\"{source_dir} is not a valid directory.\")\n",
    "        return\n",
    "\n",
    "    if not os.path.exists(target_dir):\n",
    "        try:\n",
    "            os.makedirs(target_dir)\n",
    "            print(f\"Created target directory: {target_dir}\")\n",
    "        except Exception as e:\n",
    "            print(f\"Error creating target directory {target_dir}: {e}\")\n",
    "            return\n",
    "\n",
    "    for subdir in os.listdir(source_dir):\n",
    "        subdir_path = os.path.join(source_dir, subdir)\n",
    "\n",
    "        if os.path.isdir(subdir_path):\n",
    "            for file in os.listdir(subdir_path):\n",
    "                if file.endswith(\".idat\"):\n",
    "                    file_path = os.path.join(subdir_path, file)\n",
    "                    dest_path = os.path.join(target_dir, file)\n",
    "\n",
    "                    try:\n",
    "                        shutil.move(file_path, dest_path)\n",
    "                        print(f\"Moved: {file_path} -> {dest_path}\")\n",
    "                    except Exception as e:\n",
    "                        print(f\"Error moving {file_path}: {e}\")\n",
    "\n",
    "\n",
    "source_directory = input(\"Enter the path to the source directory: \")\n",
    "if source_directory == \"\":\n",
    "    source_directory = \"gdc_download\"\n",
    "target_directory = input(\"Enter the path to the target directory: \")\n",
    "if target_directory == \"\":\n",
    "    target_directory = \"idats\"\n",
    "move_idat_files(source_directory, target_directory)\n"
   ]
  },
  {
   "cell_type": "markdown",
   "metadata": {},
   "source": [
    "#### Prapare sample sheet\n"
   ]
  },
  {
   "cell_type": "code",
   "execution_count": null,
   "metadata": {},
   "outputs": [],
   "source": [
    "import pandas as pd\n",
    "\n",
    "df = pd.read_csv(input(\"Enter the name of sample sheet from gdc: \"), sep=\"\\t\")"
   ]
  },
  {
   "cell_type": "code",
   "execution_count": null,
   "metadata": {},
   "outputs": [],
   "source": [
    "df_sorted = df.sort_values(by='Sample Type')\n",
    "df_sorted = df_sorted[[\"Sample Type\", \"File Name\"]]\n",
    "df_normal = df_sorted[df_sorted[\"Sample Type\"] == \"Solid Tissue Normal\"]\n",
    "df_tumor = df_sorted[df_sorted[\"Sample Type\"] == \"Primary Tumor\"]\n",
    "df_normal = df_normal.sort_values(by='File Name')\n",
    "df_tumor = df_tumor.sort_values(by='File Name')"
   ]
  },
  {
   "cell_type": "code",
   "execution_count": null,
   "metadata": {},
   "outputs": [],
   "source": [
    "def split_string_by_underline(string):\n",
    "    return string.split('_')"
   ]
  },
  {
   "cell_type": "code",
   "execution_count": null,
   "metadata": {},
   "outputs": [],
   "source": [
    "df_concat = pd.concat([df_normal, df_tumor], axis=0)\n",
    "df_concat.reset_index(drop=True, inplace=True)\n",
    "df_concat[\"Sample_Name\"] = df_concat.index + 1\n",
    "df_concat[\"Sample_Plate\"] = \"\"\n",
    "df_concat[\"Pool_ID\"] = \"\"\n",
    "df_concat.rename(columns={\"Sample Type\": \"Sample_Group\"}, inplace=True)\n",
    "df_concat[\"Sentrix_ID\"] = df_concat[\"File Name\"].apply(lambda x: split_string_by_underline(x)[0])\n",
    "df_concat[\"Sentrix_Position\"] = df_concat[\"File Name\"].apply(lambda x: split_string_by_underline(x)[1])\n",
    "df_concat[\"Sample_Well\"] = \"\"\n",
    "df_concat.drop(columns=[\"File Name\"], inplace=True)"
   ]
  },
  {
   "cell_type": "code",
   "execution_count": null,
   "metadata": {},
   "outputs": [],
   "source": [
    "df_concat = df_concat[[\"Sample_Name\", \"Sample_Plate\", \"Sample_Group\", \"Pool_ID\", \"Sentrix_ID\", \"Sentrix_Position\", \"Sample_Well\"]]\n",
    "df_concat['Sample_Group'] = df_concat['Sample_Group'].str.replace(' ', '_')\n",
    "df_concat"
   ]
  },
  {
   "cell_type": "code",
   "execution_count": null,
   "metadata": {},
   "outputs": [],
   "source": [
    "df_concat.to_csv('sample_sheet_BRCA.csv', index=False)"
   ]
  },
  {
   "cell_type": "markdown",
   "metadata": {},
   "source": [
    "#### Check idats"
   ]
  },
  {
   "cell_type": "code",
   "execution_count": null,
   "metadata": {},
   "outputs": [],
   "source": [
    "import pandas as pd\n",
    "df_name = input(\"Enter the name of sample sheet for champ\")\n",
    "df = pd.read_csv(df_name)\n",
    "df"
   ]
  },
  {
   "cell_type": "code",
   "execution_count": null,
   "metadata": {},
   "outputs": [],
   "source": [
    "import os\n",
    "import shutil\n",
    "\n",
    "def check(folder):\n",
    "    if not os.path.isdir(folder):\n",
    "        print(f\"{folder} is not a valid directory.\")\n",
    "        return\n",
    "    idat_files = [f for f in os.listdir(folder) if f.endswith('.idat')]\n",
    "    sample_ids = [f.split('_')[0] for f in idat_files]\n",
    "    flag = True\n",
    "    # Check if each sample ID exists in the dataframe\n",
    "    for sample_id in sample_ids:\n",
    "        if sample_id not in df['Sentrix_ID'].values:\n",
    "            flag = False\n",
    "            print(f\"Warning: Sample {sample_id} not found in sample sheet\")\n",
    "        else:\n",
    "            pass\n",
    "    if flag:\n",
    "        print(\"All samples found in sample sheet\")\n",
    "# F:\\Repo\\btc\\data\\TCGA_COAD_READ\n",
    "# gdc_sample_sheet.2024-12-05.modified.csv\n",
    "folder = input(\"Enter the path to the folder for checking\")\n",
    "\n",
    "check(folder)\n"
   ]
  },
  {
   "cell_type": "code",
   "execution_count": null,
   "metadata": {},
   "outputs": [],
   "source": []
  }
 ],
 "metadata": {
  "kernelspec": {
   "display_name": "Python 3",
   "language": "python",
   "name": "python3"
  },
  "language_info": {
   "codemirror_mode": {
    "name": "ipython",
    "version": 3
   },
   "file_extension": ".py",
   "mimetype": "text/x-python",
   "name": "python",
   "nbconvert_exporter": "python",
   "pygments_lexer": "ipython3",
   "version": "3.10.11"
  }
 },
 "nbformat": 4,
 "nbformat_minor": 2
}
