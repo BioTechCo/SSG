{
 "cells": [
  {
   "cell_type": "markdown",
   "metadata": {},
   "source": [
    "## Normalized data\n",
    "### Description\n",
    "This notebook fetch normalized data from GEO database."
   ]
  },
  {
   "cell_type": "code",
   "execution_count": null,
   "metadata": {},
   "outputs": [],
   "source": [
    "import GEOparse\n",
    "import pandas as pd"
   ]
  },
  {
   "cell_type": "code",
   "execution_count": 26,
   "metadata": {},
   "outputs": [],
   "source": [
    "GEO_ACCESSION = \"GSE148663\""
   ]
  },
  {
   "cell_type": "code",
   "execution_count": null,
   "metadata": {},
   "outputs": [],
   "source": [
    "gse = GEOparse.get_GEO(geo=GEO_ACCESSION, destdir=\"./downloads\")"
   ]
  },
  {
   "cell_type": "code",
   "execution_count": 28,
   "metadata": {},
   "outputs": [
    {
     "name": "stdout",
     "output_type": "stream",
     "text": [
      "found data columns, specifying index column and data columns to keep\n",
      "0: ID_REF\n",
      "1: VALUE\n",
      "2: Detection Pval\n"
     ]
    }
   ],
   "source": [
    "columns_mapping = {}\n",
    "print(\"found data columns, specifying index column and data columns to keep\")\n",
    "for i, column_num in enumerate(gse.gsms[list(gse.gsms.keys())[0]].table.columns):\n",
    "    print(f\"{i}: {column_num}\")\n",
    "    columns_mapping[i] = column_num"
   ]
  },
  {
   "cell_type": "code",
   "execution_count": 29,
   "metadata": {},
   "outputs": [],
   "source": [
    "selected_index_column = 0\n",
    "select_data_columns_list = [1, 2]"
   ]
  },
  {
   "cell_type": "code",
   "execution_count": null,
   "metadata": {},
   "outputs": [],
   "source": [
    "list_data_frame = []\n",
    "for _ in select_data_columns_list:\n",
    "    list_data_frame.append(pd.DataFrame())\n",
    "\n",
    "for gsm_name, _ in gse.gsms.items():\n",
    "\n",
    "    print(\"Name: \", gsm_name)\n",
    "    sample_table = gse.gsms[gsm_name].table\n",
    "\n",
    "    for i, column_num in enumerate(select_data_columns_list):\n",
    "        column_name = columns_mapping[column_num]\n",
    "        renamed_sample_table = sample_table.rename(columns={column_name: gsm_name})\n",
    "        list_data_frame[i] = pd.concat(\n",
    "            [list_data_frame[i], renamed_sample_table[[gsm_name]]], axis=1\n",
    "        )\n",
    "\n",
    "\n",
    "for i, _ in enumerate(select_data_columns_list):\n",
    "    list_data_frame[i] = pd.concat(\n",
    "        [sample_table[columns_mapping[int(selected_index_column)]], list_data_frame[i]],\n",
    "        axis=1,\n",
    "    )"
   ]
  },
  {
   "cell_type": "code",
   "execution_count": null,
   "metadata": {},
   "outputs": [],
   "source": [
    "columns_mapping_r = {k: v.replace(\" \", \"_\") for k, v in columns_mapping.items()}\n",
    "for i, column_num in enumerate(select_data_columns_list):\n",
    "    list_data_frame[i].to_csv(\n",
    "        f\"{GEO_ACCESSION}_{columns_mapping_r[int(column_num)]}.csv\", index=False\n",
    "    )"
   ]
  },
  {
   "cell_type": "code",
   "execution_count": null,
   "metadata": {},
   "outputs": [],
   "source": []
  }
 ],
 "metadata": {
  "kernelspec": {
   "display_name": "venv",
   "language": "python",
   "name": "python3"
  },
  "language_info": {
   "codemirror_mode": {
    "name": "ipython",
    "version": 3
   },
   "file_extension": ".py",
   "mimetype": "text/x-python",
   "name": "python",
   "nbconvert_exporter": "python",
   "pygments_lexer": "ipython3",
   "version": "3.10.11"
  }
 },
 "nbformat": 4,
 "nbformat_minor": 2
}
