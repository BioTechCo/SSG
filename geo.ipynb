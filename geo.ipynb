{
 "cells": [
  {
   "cell_type": "code",
   "execution_count": 14,
   "metadata": {},
   "outputs": [],
   "source": [
    "import GEOparse\n",
    "import pandas as pd\n",
    "import os"
   ]
  },
  {
   "cell_type": "code",
   "execution_count": null,
   "metadata": {},
   "outputs": [],
   "source": [
    "gse = GEOparse.get_GEO(geo=\"GSE122126\", destdir=\"./\")"
   ]
  },
  {
   "cell_type": "code",
   "execution_count": null,
   "metadata": {},
   "outputs": [],
   "source": [
    "# inspect a single sample\n",
    "for gsm_name, gsm in gse.gsms.items():\n",
    "    print(\"Name: \", gsm_name)\n",
    "    print(\"Metadata:\",)\n",
    "    for key, value in gsm.metadata.items():\n",
    "        print(\" - %s : %s\" % (key, \", \".join(value)))\n",
    "    print (\"Table data:\",)\n",
    "    print (gsm.table.head())\n",
    "    break"
   ]
  },
  {
   "cell_type": "code",
   "execution_count": 4,
   "metadata": {},
   "outputs": [],
   "source": [
    "# scan current directory to open the first directory\n",
    "idat_folder = \"idats\""
   ]
  },
  {
   "cell_type": "code",
   "execution_count": null,
   "metadata": {},
   "outputs": [],
   "source": [
    "file_mapping = {}\n",
    "\n",
    "for f in os.listdir(idat_folder):\n",
    "    if f.endswith('.idat'):\n",
    "        print(\"idat file found: \", f)\n",
    "        file_mapping[f.split('_')[0]] = f\n",
    "        "
   ]
  },
  {
   "cell_type": "code",
   "execution_count": null,
   "metadata": {},
   "outputs": [],
   "source": [
    "sample_sheet = pd.DataFrame()\n",
    "\n",
    "characteristics_identifier = \"disease state\"\n",
    "\n",
    "for _, gsm in gse.gsms.items():\n",
    "    gsm_name = gsm.name\n",
    "    basket = {}\n",
    "    basket['Sample_Name'] = ''\n",
    "    basket['Sample_Plate'] = ''\n",
    "    basket['Pool_ID'] = ''\n",
    "    char_dict = {key: value for item in gsm.metadata['characteristics_ch1'] for key, value in [item.split(': ')]}\n",
    "    basket['Sample_Group'] = char_dict[characteristics_identifier]\n",
    "    if gsm_name in file_mapping:\n",
    "        print(f\"Found {gsm_name} in selected idat files\")\n",
    "        basket['Sentrix_ID'] = file_mapping[gsm_name].split('_')[1]\n",
    "        basket['Sentrix_Position'] = file_mapping[gsm_name].split('_')[2]\n",
    "        sample_sheet = pd.concat([sample_sheet, pd.DataFrame([basket])], ignore_index=True)\n",
    "        \n",
    "print(sample_sheet)\n"
   ]
  },
  {
   "cell_type": "code",
   "execution_count": 13,
   "metadata": {},
   "outputs": [],
   "source": [
    "sample_sheet.sort_values(by=['Sample_Group', 'Sentrix_ID', 'Sentrix_Position'], inplace=True)\n",
    "sample_sheet.reset_index(drop=True, inplace=True)\n",
    "sample_sheet['Sample_Name'] = sample_sheet.index + 1\n",
    "sample_sheet.to_csv(\"sample_sheet.csv\", index=False)"
   ]
  }
 ],
 "metadata": {
  "kernelspec": {
   "display_name": "venv",
   "language": "python",
   "name": "python3"
  },
  "language_info": {
   "codemirror_mode": {
    "name": "ipython",
    "version": 3
   },
   "file_extension": ".py",
   "mimetype": "text/x-python",
   "name": "python",
   "nbconvert_exporter": "python",
   "pygments_lexer": "ipython3",
   "version": "3.10.11"
  }
 },
 "nbformat": 4,
 "nbformat_minor": 2
}
