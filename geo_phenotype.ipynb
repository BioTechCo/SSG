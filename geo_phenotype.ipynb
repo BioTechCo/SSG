{
 "cells": [
  {
   "cell_type": "markdown",
   "metadata": {},
   "source": [
    "## Phenotype\n",
    "### Description\n",
    "This notebook fetch phenotypes form GEO database and export them as a csv file."
   ]
  },
  {
   "cell_type": "code",
   "execution_count": null,
   "metadata": {},
   "outputs": [],
   "source": [
    "import GEOparse\n",
    "import pandas as pd\n",
    "import re\n",
    "\n",
    "\n",
    "def match_regex(key, pattern):\n",
    "    return re.search(pattern, key, re.IGNORECASE) is not None"
   ]
  },
  {
   "cell_type": "code",
   "execution_count": null,
   "metadata": {},
   "outputs": [],
   "source": [
    "gse = GEOparse.get_GEO(geo=\"GSE89093\", destdir=\"./\")"
   ]
  },
  {
   "cell_type": "code",
   "execution_count": 12,
   "metadata": {},
   "outputs": [],
   "source": [
    "phenotype = pd.DataFrame()\n",
    "\n",
    "exclude_list = [\n",
    "    \"supplementary_file\",\n",
    "    \"data_processing\",\n",
    "    \"extract_protocol_ch1\",\n",
    "    \"hyb_protocol\",\n",
    "    \"contact\",\n",
    "]\n",
    "\n",
    "\n",
    "def in_exclude_list(key):\n",
    "    for exclude in exclude_list:\n",
    "        if match_regex(key, exclude):\n",
    "            return True\n",
    "    return False\n",
    "\n",
    "\n",
    "for gsm_name, gsm in gse.gsms.items():\n",
    "    basket = {}\n",
    "    for key, value in gsm.metadata.items():\n",
    "        if key == \"characteristics_ch1\":\n",
    "            cbasket = {}\n",
    "            for val in value:\n",
    "                k, v = val.split(\": \")\n",
    "                ktmp = k.replace(\" \", \"_\")\n",
    "                basket[ktmp] = v\n",
    "        elif not in_exclude_list(key):\n",
    "            keytmp = key.replace(\" \", \"_\")\n",
    "            basket[keytmp] = value[0]\n",
    "    phenotype = pd.concat(\n",
    "        [phenotype, pd.DataFrame([basket])], ignore_index=True, axis=0\n",
    "    )"
   ]
  },
  {
   "cell_type": "code",
   "execution_count": 14,
   "metadata": {},
   "outputs": [],
   "source": [
    "phenotype.to_csv(\"phenotype.csv\", index=False)"
   ]
  },
  {
   "cell_type": "code",
   "execution_count": null,
   "metadata": {},
   "outputs": [],
   "source": []
  }
 ],
 "metadata": {
  "kernelspec": {
   "display_name": "venv",
   "language": "python",
   "name": "python3"
  },
  "language_info": {
   "codemirror_mode": {
    "name": "ipython",
    "version": 3
   },
   "file_extension": ".py",
   "mimetype": "text/x-python",
   "name": "python",
   "nbconvert_exporter": "python",
   "pygments_lexer": "ipython3",
   "version": "3.11.9"
  }
 },
 "nbformat": 4,
 "nbformat_minor": 2
}
