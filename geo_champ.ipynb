{
 "cells": [
  {
   "cell_type": "markdown",
   "metadata": {},
   "source": [
    "## ChAMP analysis Pipeline\n",
    "### Description\n",
    "This notebook fetches data from GEO database via FTP server and `GEOparse`. The critical phenotypes are identified and a sample sheet suitable for ChAMP analysis is generated.\n",
    "\n",
    "### Example\n",
    "GEO_ACCESSION = \"GSE199057\""
   ]
  },
  {
   "cell_type": "code",
   "execution_count": 6,
   "metadata": {},
   "outputs": [],
   "source": [
    "import GEOparse\n",
    "import os\n",
    "import subprocess\n",
    "import gzip"
   ]
  },
  {
   "cell_type": "code",
   "execution_count": 7,
   "metadata": {},
   "outputs": [],
   "source": [
    "GEO_ACCESSION = input(\"Enter the GEO accession number: \")\n",
    "directory = \"idats\"  # directory for organizing idats"
   ]
  },
  {
   "cell_type": "code",
   "execution_count": null,
   "metadata": {},
   "outputs": [],
   "source": [
    "command = [\n",
    "    \"aria/aria2c\",\n",
    "    f\"ftp://ftp.ncbi.nlm.nih.gov/geo/series/{GEO_ACCESSION[:-3]}nnn/{GEO_ACCESSION}/suppl/{GEO_ACCESSION}_RAW.tar\",\n",
    "]\n",
    "\n",
    "process = subprocess.Popen(\n",
    "    command, stdout=subprocess.PIPE, stderr=subprocess.PIPE, text=True\n",
    ")\n",
    "\n",
    "while True:\n",
    "    output = process.stdout.readline()\n",
    "    if output == \"\" and process.poll() is not None:\n",
    "        break\n",
    "    if output:\n",
    "        print(output.strip())"
   ]
  },
  {
   "cell_type": "markdown",
   "metadata": {},
   "source": [
    "### Unzip files"
   ]
  },
  {
   "cell_type": "code",
   "execution_count": null,
   "metadata": {},
   "outputs": [],
   "source": [
    "if not os.path.exists(directory):\n",
    "    os.makedirs(directory)\n",
    "\n",
    "subprocess.run([\"tar\", \"-xvf\", f\"{GEO_ACCESSION}_RAW.tar\", \"-C\", directory])"
   ]
  },
  {
   "cell_type": "code",
   "execution_count": null,
   "metadata": {},
   "outputs": [],
   "source": [
    "counter = 0\n",
    "for filename in os.listdir(directory):\n",
    "    if filename.endswith(\".gz\") and filename.startswith(\"GSM\"):\n",
    "        file_path = os.path.join(directory, filename)\n",
    "        output_filename = os.path.splitext(file_path)[0]\n",
    "        with gzip.open(file_path, \"rb\") as f_in:\n",
    "            with open(output_filename, \"wb\") as f_out:\n",
    "                f_out.write(f_in.read())\n",
    "\n",
    "        print(f\"Unzipped {filename} to {output_filename}\")\n",
    "        counter += 1\n",
    "print(f\"Unzipped {counter} files\")"
   ]
  },
  {
   "cell_type": "markdown",
   "metadata": {},
   "source": [
    "### Set up file mapping"
   ]
  },
  {
   "cell_type": "code",
   "execution_count": null,
   "metadata": {},
   "outputs": [],
   "source": [
    "file_mapping = {}\n",
    "counter = 0\n",
    "for f in os.listdir(directory):\n",
    "    if f.endswith(\".idat\"):\n",
    "        print(\"idat file found: \", f)\n",
    "        file_mapping[f.split(\"_\")[0]] = f\n",
    "        counter += 1\n",
    "\n",
    "print(f\"Found {counter} idat files\")"
   ]
  },
  {
   "cell_type": "markdown",
   "metadata": {},
   "source": [
    "### Fetch metadata"
   ]
  },
  {
   "cell_type": "code",
   "execution_count": null,
   "metadata": {},
   "outputs": [],
   "source": [
    "gse = GEOparse.get_GEO(geo=GEO_ACCESSION, destdir=\"./downloads\")"
   ]
  },
  {
   "cell_type": "markdown",
   "metadata": {},
   "source": [
    "### Inspect a single sample\n"
   ]
  },
  {
   "cell_type": "code",
   "execution_count": null,
   "metadata": {},
   "outputs": [],
   "source": [
    "for gsm_name, gsm in gse.gsms.items():\n",
    "    print(\"Name: \", gsm_name)\n",
    "    print(\"Metadata:\")\n",
    "    for key, value in gsm.metadata.items():\n",
    "        print(\" - %s : %s\" % (key, \", \".join(value)))\n",
    "    print(\"Table data:\")\n",
    "    print(gsm.table.head())\n",
    "    break"
   ]
  },
  {
   "cell_type": "markdown",
   "metadata": {},
   "source": [
    "### Identify phenotype"
   ]
  },
  {
   "cell_type": "code",
   "execution_count": null,
   "metadata": {},
   "outputs": [],
   "source": [
    "import pandas as pd\n",
    "\n",
    "df = pd.DataFrame()\n",
    "for i in range(len(gse.gsms)):\n",
    "    sample_list = gse.gsms[list(gse.gsms.keys())[i]].metadata[\"characteristics_ch1\"]\n",
    "    sample_dict = {}\n",
    "    for sample in sample_list:\n",
    "        sample_dict[sample.split(\": \")[0]] = sample.split(\": \")[1]\n",
    "    df = pd.concat([df, pd.DataFrame(sample_dict, index=[i])])\n",
    "    \n",
    "print(\"feature in characteristics_ch1:\")\n",
    "features = []\n",
    "for column in df.columns:\n",
    "    features.append(column)\n",
    "    print(f\"{column}: {df[column].unique()}\")"
   ]
  },
  {
   "cell_type": "markdown",
   "metadata": {},
   "source": [
    "### Generating SampleSheet"
   ]
  },
  {
   "cell_type": "code",
   "execution_count": 12,
   "metadata": {},
   "outputs": [],
   "source": [
    "if len(features) != 1:\n",
    "    feature_identifier = features[int(input(\"Enter the index of the feature you want to use: \"))]\n",
    "    print(f\"Using '{feature_identifier}' as feature identifier\")\n",
    "else:\n",
    "    feature_identifier = features[0]\n"
   ]
  },
  {
   "cell_type": "code",
   "execution_count": null,
   "metadata": {},
   "outputs": [],
   "source": [
    "sample_sheet = pd.DataFrame()\n",
    "counter = 0\n",
    "for _, gsm in gse.gsms.items():\n",
    "\n",
    "    gsm_name = gsm.name\n",
    "    basket = {\"Sample_Name\": \"\", \"Sample_Plate\": \"\", \"Pool_ID\": \"\"}\n",
    "\n",
    "    char_dict = {\n",
    "        key: value\n",
    "        for item in gsm.metadata[\"characteristics_ch1\"]\n",
    "        for key, value in [item.split(\": \")]\n",
    "    }\n",
    "\n",
    "    basket[\"Sample_Group\"] = char_dict.get(feature_identifier, \"\").replace(\" \", \"_\")\n",
    "\n",
    "    if gsm_name in file_mapping:\n",
    "\n",
    "        file_parts = file_mapping[gsm_name].split(\"_\")\n",
    "        if len(file_parts) > 2:\n",
    "            basket[\"Sentrix_ID\"] = file_parts[1]\n",
    "            basket[\"Sentrix_Position\"] = file_parts[2]\n",
    "\n",
    "        for _ in range(2):\n",
    "            sample_sheet = pd.concat(\n",
    "                [sample_sheet, pd.DataFrame([basket])], ignore_index=True\n",
    "            )\n",
    "\n",
    "        counter += 1\n",
    "print(f\"matched {counter} samples ({counter*2} entries in sample sheet)\")"
   ]
  },
  {
   "cell_type": "markdown",
   "metadata": {},
   "source": [
    "### Export SampleSheet and organize idats files"
   ]
  },
  {
   "cell_type": "code",
   "execution_count": 96,
   "metadata": {},
   "outputs": [],
   "source": [
    "if not os.path.exists(f\"{GEO_ACCESSION}\"):\n",
    "    os.makedirs(f\"{GEO_ACCESSION}\")"
   ]
  },
  {
   "cell_type": "code",
   "execution_count": 97,
   "metadata": {},
   "outputs": [],
   "source": [
    "sample_sheet.sort_values(\n",
    "    by=[\"Sample_Group\", \"Sentrix_ID\", \"Sentrix_Position\"], inplace=True\n",
    ")\n",
    "sample_sheet.reset_index(drop=True, inplace=True)\n",
    "sample_sheet[\"Sample_Name\"] = sample_sheet.index + 1\n",
    "sample_sheet.to_csv(f\"{GEO_ACCESSION}/sample_sheet.csv\", index=False)"
   ]
  },
  {
   "cell_type": "code",
   "execution_count": null,
   "metadata": {},
   "outputs": [],
   "source": [
    "counter = 0\n",
    "for files in os.listdir(directory):\n",
    "    if files.endswith(\".idat\"):\n",
    "        new_file_name = \"_\".join(files.split(\"_\")[1:])\n",
    "        print(f\"Moving {files} to {GEO_ACCESSION}/{new_file_name}\")\n",
    "        os.rename(f\"{directory}/{files}\", f\"{GEO_ACCESSION}/{new_file_name}\")\n",
    "        counter += 1\n",
    "\n",
    "print(f\"Moved {counter} files\")"
   ]
  },
  {
   "cell_type": "markdown",
   "metadata": {},
   "source": [
    "### REMOVE GEO_ACCESSION TAR AND FILES in DIRECTORY (OPTIONAL)\n",
    "make sure all idat file is properly extracted before running this cell"
   ]
  },
  {
   "cell_type": "code",
   "execution_count": null,
   "metadata": {},
   "outputs": [],
   "source": [
    "os.remove(f\"{GEO_ACCESSION}_RAW.tar\")"
   ]
  },
  {
   "cell_type": "code",
   "execution_count": null,
   "metadata": {},
   "outputs": [],
   "source": [
    "counter = 0\n",
    "for filename in os.listdir(directory):\n",
    "    os.remove(os.path.join(directory, filename))\n",
    "    counter += 1\n",
    "print(f\"Removed {counter} files\")"
   ]
  }
 ],
 "metadata": {
  "kernelspec": {
   "display_name": "Python 3",
   "language": "python",
   "name": "python3"
  },
  "language_info": {
   "codemirror_mode": {
    "name": "ipython",
    "version": 3
   },
   "file_extension": ".py",
   "mimetype": "text/x-python",
   "name": "python",
   "nbconvert_exporter": "python",
   "pygments_lexer": "ipython3",
   "version": "3.10.11"
  }
 },
 "nbformat": 4,
 "nbformat_minor": 2
}
